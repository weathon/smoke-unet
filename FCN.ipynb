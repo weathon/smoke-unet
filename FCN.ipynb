{
  "nbformat": 4,
  "nbformat_minor": 0,
  "metadata": {
    "colab": {
      "provenance": [],
      "authorship_tag": "ABX9TyO12QIPVEG/DdW94C8Q5pb0",
      "include_colab_link": true
    },
    "kernelspec": {
      "name": "python3",
      "display_name": "Python 3"
    },
    "language_info": {
      "name": "python"
    }
  },
  "cells": [
    {
      "cell_type": "markdown",
      "metadata": {
        "id": "view-in-github",
        "colab_type": "text"
      },
      "source": [
        "<a href=\"https://colab.research.google.com/github/weathon/smoke-unet/blob/main/FCN.ipynb\" target=\"_parent\"><img src=\"https://colab.research.google.com/assets/colab-badge.svg\" alt=\"Open In Colab\"/></a>"
      ]
    },
    {
      "cell_type": "code",
      "execution_count": 1,
      "metadata": {
        "colab": {
          "base_uri": "https://localhost:8080/"
        },
        "id": "i4ByzvBHhOBP",
        "outputId": "e183f5ed-36da-446b-adaa-03d35044e220"
      },
      "outputs": [
        {
          "output_type": "stream",
          "name": "stderr",
          "text": [
            "Downloading: \"https://download.pytorch.org/models/efficientnet_v2_s-dd5fe13b.pth\" to /root/.cache/torch/hub/checkpoints/efficientnet_v2_s-dd5fe13b.pth\n",
            "100%|██████████| 82.7M/82.7M [00:01<00:00, 70.5MB/s]\n"
          ]
        }
      ],
      "source": [
        "import torch, torchvision\n",
        "eff = torchvision.models.efficientnet_v2_s(weights=\"DEFAULT\")"
      ]
    },
    {
      "cell_type": "code",
      "source": [
        "!pip install torchinfo"
      ],
      "metadata": {
        "colab": {
          "base_uri": "https://localhost:8080/"
        },
        "id": "AhKlZKtgheO1",
        "outputId": "5f6d89c2-5955-4632-bea1-d800de8f3bbe"
      },
      "execution_count": 4,
      "outputs": [
        {
          "output_type": "stream",
          "name": "stdout",
          "text": [
            "Collecting torchinfo\n",
            "  Downloading torchinfo-1.8.0-py3-none-any.whl (23 kB)\n",
            "Installing collected packages: torchinfo\n",
            "Successfully installed torchinfo-1.8.0\n"
          ]
        }
      ]
    },
    {
      "cell_type": "code",
      "source": [
        "class mod(torch.nn.Module):\n",
        "  def __init__(self):\n",
        "    super().__init__()\n",
        "    self.encoder = eff.features[:6]\n",
        "    self.decoder = torch.nn.ConvTranspose2d(160,1,(32,32),16,8) #try and error\n",
        "\n",
        "  def forward(self, x):\n",
        "    return self.decoder(self.encoder(x))\n",
        "import torchinfo\n",
        "torchinfo.summary(mod(), (1,3,400,400))"
      ],
      "metadata": {
        "colab": {
          "base_uri": "https://localhost:8080/"
        },
        "id": "s8NmiN6MiS8M",
        "outputId": "9daadcde-5e98-40b1-b24b-9923d1ce41b8"
      },
      "execution_count": 37,
      "outputs": [
        {
          "output_type": "execute_result",
          "data": {
            "text/plain": [
              "=========================================================================================================\n",
              "Layer (type:depth-idx)                                  Output Shape              Param #\n",
              "=========================================================================================================\n",
              "mod                                                     [1, 1, 400, 400]          --\n",
              "├─Sequential: 1-1                                       [1, 160, 25, 25]          --\n",
              "│    └─Conv2dNormActivation: 2-1                        [1, 24, 200, 200]         --\n",
              "│    │    └─Conv2d: 3-1                                 [1, 24, 200, 200]         648\n",
              "│    │    └─BatchNorm2d: 3-2                            [1, 24, 200, 200]         48\n",
              "│    │    └─SiLU: 3-3                                   [1, 24, 200, 200]         --\n",
              "│    └─Sequential: 2-2                                  [1, 24, 200, 200]         --\n",
              "│    │    └─FusedMBConv: 3-4                            [1, 24, 200, 200]         5,232\n",
              "│    │    └─FusedMBConv: 3-5                            [1, 24, 200, 200]         5,232\n",
              "│    └─Sequential: 2-3                                  [1, 48, 100, 100]         --\n",
              "│    │    └─FusedMBConv: 3-6                            [1, 48, 100, 100]         25,632\n",
              "│    │    └─FusedMBConv: 3-7                            [1, 48, 100, 100]         92,640\n",
              "│    │    └─FusedMBConv: 3-8                            [1, 48, 100, 100]         92,640\n",
              "│    │    └─FusedMBConv: 3-9                            [1, 48, 100, 100]         92,640\n",
              "│    └─Sequential: 2-4                                  [1, 64, 50, 50]           --\n",
              "│    │    └─FusedMBConv: 3-10                           [1, 64, 50, 50]           95,744\n",
              "│    │    └─FusedMBConv: 3-11                           [1, 64, 50, 50]           164,480\n",
              "│    │    └─FusedMBConv: 3-12                           [1, 64, 50, 50]           164,480\n",
              "│    │    └─FusedMBConv: 3-13                           [1, 64, 50, 50]           164,480\n",
              "│    └─Sequential: 2-5                                  [1, 128, 25, 25]          --\n",
              "│    │    └─MBConv: 3-14                                [1, 128, 25, 25]          61,200\n",
              "│    │    └─MBConv: 3-15                                [1, 128, 25, 25]          171,296\n",
              "│    │    └─MBConv: 3-16                                [1, 128, 25, 25]          171,296\n",
              "│    │    └─MBConv: 3-17                                [1, 128, 25, 25]          171,296\n",
              "│    │    └─MBConv: 3-18                                [1, 128, 25, 25]          171,296\n",
              "│    │    └─MBConv: 3-19                                [1, 128, 25, 25]          171,296\n",
              "│    └─Sequential: 2-6                                  [1, 160, 25, 25]          --\n",
              "│    │    └─MBConv: 3-20                                [1, 160, 25, 25]          281,440\n",
              "│    │    └─MBConv: 3-21                                [1, 160, 25, 25]          397,800\n",
              "│    │    └─MBConv: 3-22                                [1, 160, 25, 25]          397,800\n",
              "│    │    └─MBConv: 3-23                                [1, 160, 25, 25]          397,800\n",
              "│    │    └─MBConv: 3-24                                [1, 160, 25, 25]          397,800\n",
              "│    │    └─MBConv: 3-25                                [1, 160, 25, 25]          397,800\n",
              "│    │    └─MBConv: 3-26                                [1, 160, 25, 25]          397,800\n",
              "│    │    └─MBConv: 3-27                                [1, 160, 25, 25]          397,800\n",
              "│    │    └─MBConv: 3-28                                [1, 160, 25, 25]          397,800\n",
              "├─ConvTranspose2d: 1-2                                  [1, 1, 400, 400]          163,841\n",
              "=========================================================================================================\n",
              "Total params: 5,449,257\n",
              "Trainable params: 5,449,257\n",
              "Non-trainable params: 0\n",
              "Total mult-adds (G): 33.35\n",
              "=========================================================================================================\n",
              "Input size (MB): 1.92\n",
              "Forward/backward pass size (MB): 489.37\n",
              "Params size (MB): 21.80\n",
              "Estimated Total Size (MB): 513.09\n",
              "========================================================================================================="
            ]
          },
          "metadata": {},
          "execution_count": 37
        }
      ]
    }
  ]
}